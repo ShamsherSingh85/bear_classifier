{
 "cells": [
  {
   "cell_type": "code",
   "execution_count": null,
   "id": "101f8ea9-17fd-4c74-a74c-abb6f66308b0",
   "metadata": {},
   "outputs": [],
   "source": [
    "#!default_exp app.py\n",
    "# !pip install -r requirements.txt "
   ]
  },
  {
   "cell_type": "code",
   "execution_count": 1,
   "id": "5cb8f004-6775-41f2-a595-ec8cfb132c43",
   "metadata": {},
   "outputs": [],
   "source": [
    "#!export\n",
    "import fastbook\n",
    "fastbook.setup_book()\n",
    "from fastai.vision.all import *\n",
    "from fastai.vision.widgets import *"
   ]
  },
  {
   "cell_type": "code",
   "execution_count": null,
   "id": "aff61d7a-f40c-4cb2-b882-e9302e3984aa",
   "metadata": {},
   "outputs": [
    {
     "data": {
      "text/html": [
       "\n",
       "<style>\n",
       "    /* Turns off some styling */\n",
       "    progress {\n",
       "        /* gets rid of default border in Firefox and Opera. */\n",
       "        border: none;\n",
       "        /* Needs to be in here for Safari polyfill so background images work as expected. */\n",
       "        background-size: auto;\n",
       "    }\n",
       "    progress:not([value]), progress:not([value])::-webkit-progress-bar {\n",
       "        background: repeating-linear-gradient(45deg, #7e7e7e, #7e7e7e 10px, #5c5c5c 10px, #5c5c5c 20px);\n",
       "    }\n",
       "    .progress-bar-interrupted, .progress-bar-interrupted::-webkit-progress-bar {\n",
       "        background: #F44336;\n",
       "    }\n",
       "</style>\n"
      ],
      "text/plain": [
       "<IPython.core.display.HTML object>"
      ]
     },
     "metadata": {},
     "output_type": "display_data"
    },
    {
     "data": {
      "text/html": [],
      "text/plain": [
       "<IPython.core.display.HTML object>"
      ]
     },
     "metadata": {},
     "output_type": "display_data"
    }
   ],
   "source": [
    "# path = Path('your_directory_if_storing_on_local_system/learn_vit.pkl') \n",
    "\n",
    "path = Path() / 'learn_vit.pkl'\n",
    "\n",
    "\n",
    "learn_inf = load_learner(path, cpu = True)\n",
    "\n",
    "\n",
    "file_upload_btn = widgets.FileUpload()\n",
    "\n",
    "\n",
    "out_img = widgets.Output()\n",
    "\n",
    "\n",
    "lbl_pred = widgets.Label()"
   ]
  },
  {
   "cell_type": "code",
   "execution_count": 6,
   "id": "769015de-520d-4df3-b2b0-a798416bb7ef",
   "metadata": {},
   "outputs": [],
   "source": [
    "def on_data_change(change):\n",
    "    lbl_pred.value = '' \n",
    "    img = PILImage.create(file_upload_btn.data[-1]) \n",
    "    out_img.clear_output() \n",
    "    with out_img : display(img.to_thumb(256,256)) \n",
    "    pred, pred_idx, prob = learn_inf.predict(img) \n",
    "    lbl_pred.value = f'Prediction = {pred} ; Probability = {prob[pred_idx]:.4f}'  \n"
   ]
  },
  {
   "cell_type": "code",
   "execution_count": 7,
   "id": "c67ba7ca-461b-4bc7-9ccd-bdfbdaca67b6",
   "metadata": {},
   "outputs": [],
   "source": [
    "file_upload_btn.observe(on_data_change, names = ['data'])"
   ]
  },
  {
   "cell_type": "code",
   "execution_count": 8,
   "id": "0e0c7325-351d-4e85-b979-89a492e635e7",
   "metadata": {},
   "outputs": [
    {
     "data": {
      "application/vnd.jupyter.widget-view+json": {
       "model_id": "faf10cbb53d54ab185cde25e5423cca7",
       "version_major": 2,
       "version_minor": 0
      },
      "text/plain": [
       "VBox(children=(Label(value='Select Your Image!'), FileUpload(value={}, description='Upload'), Output(), Label(…"
      ]
     },
     "metadata": {},
     "output_type": "display_data"
    }
   ],
   "source": [
    "display(VBox([widgets.Label('Select Your Image!'), file_upload_btn, out_img, lbl_pred]))"
   ]
  },
  {
   "cell_type": "code",
   "execution_count": 6,
   "id": "4bbc7392-f56a-4f78-af43-a109ab209997",
   "metadata": {},
   "outputs": [],
   "source": [
    "# !pipreqs /Users/shamshersingh/BearClassifier --force"
   ]
  }
 ],
 "metadata": {
  "kernelspec": {
   "display_name": "base",
   "language": "python",
   "name": "python3"
  },
  "language_info": {
   "codemirror_mode": {
    "name": "ipython",
    "version": 3
   },
   "file_extension": ".py",
   "mimetype": "text/x-python",
   "name": "python",
   "nbconvert_exporter": "python",
   "pygments_lexer": "ipython3",
   "version": "3.12.2"
  },
  "widgets": {
   "application/vnd.jupyter.widget-state+json": {
    "state": {},
    "version_major": 2,
    "version_minor": 0
   }
  }
 },
 "nbformat": 4,
 "nbformat_minor": 5
}
